{
 "cells": [
  {
   "cell_type": "code",
   "execution_count": 1,
   "metadata": {},
   "outputs": [],
   "source": [
    "import pandas as pd\n",
    "import numpy as np\n",
    "from sklearn.linear_model import LogisticRegression\n",
    "from sklearn import svm\n",
    "from sklearn.model_selection import train_test_split\n",
    "import matplotlib.pyplot as plt"
   ]
  },
  {
   "cell_type": "code",
   "execution_count": 2,
   "metadata": {},
   "outputs": [],
   "source": [
    "inv_prts = pd.read_csv(\"inventory_parts.csv\")\n",
    "inv = pd.read_csv(\"inventories.csv\")\n",
    "clrs = pd.read_csv(\"colors.csv\")\n",
    "sets = pd.read_csv(\"sets.csv\")"
   ]
  },
  {
   "cell_type": "code",
   "execution_count": 3,
   "metadata": {},
   "outputs": [],
   "source": [
    "inv_f = pd.merge(inv_prts, inv, left_on=\"inventory_id\", right_on=\"id\", how=\"inner\")\n",
    "inv_ff = pd.merge(inv_f, clrs, left_on=\"color_id\", right_on=\"id\", how=\"inner\")\n",
    "inv_ff = inv_ff.drop(columns={\"id_x\", \"id_y\"})\n",
    "inv_ff.columns=[\"inventory_id\", \"part_num\", \"color_id\", \"quantity\", \"is_spare\", \"version\", \"set_num\", \"name\",\"rgb\", \"is_trans\"]\n",
    "\n",
    "inventory = pd.merge(inv_ff, sets, on=\"set_num\", how=\"inner\")\n",
    "inventory = inventory.rename(columns={\"name_x\":\"Color_name\", \"name_y\":\"Set name\"})\n",
    "inventory = inventory.drop(columns={\"part_num\", \"set_num\", \"Color_name\", \"rgb\", \"Set name\"})"
   ]
  },
  {
   "cell_type": "code",
   "execution_count": 4,
   "metadata": {},
   "outputs": [
    {
     "data": {
      "text/html": [
       "<div>\n",
       "<style scoped>\n",
       "    .dataframe tbody tr th:only-of-type {\n",
       "        vertical-align: middle;\n",
       "    }\n",
       "\n",
       "    .dataframe tbody tr th {\n",
       "        vertical-align: top;\n",
       "    }\n",
       "\n",
       "    .dataframe thead th {\n",
       "        text-align: right;\n",
       "    }\n",
       "</style>\n",
       "<table border=\"1\" class=\"dataframe\">\n",
       "  <thead>\n",
       "    <tr style=\"text-align: right;\">\n",
       "      <th></th>\n",
       "      <th>inventory_id</th>\n",
       "      <th>color_id</th>\n",
       "      <th>quantity</th>\n",
       "      <th>is_spare</th>\n",
       "      <th>version</th>\n",
       "      <th>is_trans</th>\n",
       "      <th>year</th>\n",
       "      <th>theme_id</th>\n",
       "      <th>num_parts</th>\n",
       "    </tr>\n",
       "  </thead>\n",
       "  <tbody>\n",
       "    <tr>\n",
       "      <th>0</th>\n",
       "      <td>1</td>\n",
       "      <td>72</td>\n",
       "      <td>1</td>\n",
       "      <td>f</td>\n",
       "      <td>1</td>\n",
       "      <td>f</td>\n",
       "      <td>2004</td>\n",
       "      <td>460</td>\n",
       "      <td>4</td>\n",
       "    </tr>\n",
       "    <tr>\n",
       "      <th>1</th>\n",
       "      <td>1</td>\n",
       "      <td>7</td>\n",
       "      <td>1</td>\n",
       "      <td>f</td>\n",
       "      <td>1</td>\n",
       "      <td>f</td>\n",
       "      <td>2004</td>\n",
       "      <td>460</td>\n",
       "      <td>4</td>\n",
       "    </tr>\n",
       "    <tr>\n",
       "      <th>2</th>\n",
       "      <td>1</td>\n",
       "      <td>25</td>\n",
       "      <td>1</td>\n",
       "      <td>f</td>\n",
       "      <td>1</td>\n",
       "      <td>f</td>\n",
       "      <td>2004</td>\n",
       "      <td>460</td>\n",
       "      <td>4</td>\n",
       "    </tr>\n",
       "    <tr>\n",
       "      <th>3</th>\n",
       "      <td>1</td>\n",
       "      <td>0</td>\n",
       "      <td>1</td>\n",
       "      <td>f</td>\n",
       "      <td>1</td>\n",
       "      <td>f</td>\n",
       "      <td>2004</td>\n",
       "      <td>460</td>\n",
       "      <td>4</td>\n",
       "    </tr>\n",
       "    <tr>\n",
       "      <th>4</th>\n",
       "      <td>22</td>\n",
       "      <td>72</td>\n",
       "      <td>1</td>\n",
       "      <td>f</td>\n",
       "      <td>1</td>\n",
       "      <td>f</td>\n",
       "      <td>2016</td>\n",
       "      <td>184</td>\n",
       "      <td>56</td>\n",
       "    </tr>\n",
       "  </tbody>\n",
       "</table>\n",
       "</div>"
      ],
      "text/plain": [
       "   inventory_id  color_id  quantity is_spare  version is_trans  year  \\\n",
       "0             1        72         1        f        1        f  2004   \n",
       "1             1         7         1        f        1        f  2004   \n",
       "2             1        25         1        f        1        f  2004   \n",
       "3             1         0         1        f        1        f  2004   \n",
       "4            22        72         1        f        1        f  2016   \n",
       "\n",
       "   theme_id  num_parts  \n",
       "0       460          4  \n",
       "1       460          4  \n",
       "2       460          4  \n",
       "3       460          4  \n",
       "4       184         56  "
      ]
     },
     "execution_count": 4,
     "metadata": {},
     "output_type": "execute_result"
    }
   ],
   "source": [
    "inventory.head()"
   ]
  },
  {
   "cell_type": "code",
   "execution_count": 5,
   "metadata": {},
   "outputs": [],
   "source": [
    "inventory_1 = inventory[[\"inventory_id\", \"color_id\", \"quantity\", \"version\", \"year\", \"theme_id\", \"num_parts\", \"is_spare\", \"is_trans\"]]\n",
    "inventory_2 = inventory[[\"inventory_id\", \"color_id\", \"quantity\", \"version\", \"year\", \"theme_id\", \"num_parts\", \"is_trans\", \"is_spare\"]]\n",
    "\n",
    "inventory_1 = inventory_1.sample(frac=0.5, random_state=1)\n",
    "inventory_2 = inventory_2.sample(frac=0.5, random_state=1)\n",
    "\n",
    "inventory_1 = np.array(inventory_1)\n",
    "inventory_2 = np.array(inventory_2)\n",
    "\n",
    "inventory_1[:,7] = (inventory_1[:,7] == \"f\").astype(int)\n",
    "inventory_2[:,7] = (inventory_2[:,7] == \"f\").astype(int)\n",
    "inventory_1[:,8] = (inventory_1[:,8] == \"f\").astype(int)\n",
    "inventory_2[:,8] = (inventory_2[:,8] == \"f\").astype(int)"
   ]
  },
  {
   "cell_type": "code",
   "execution_count": 6,
   "metadata": {},
   "outputs": [],
   "source": [
    "x1 = inventory_1[:,0:8]\n",
    "y1 = inventory_1[:,8]\n",
    "y1 = y1.reshape(x1.shape[0],1)\n",
    "y1 = y1.astype('int')\n",
    "\n",
    "x2 = inventory_2[:,0:8]\n",
    "y2 = inventory_2[:,8]\n",
    "y2 = y2.reshape(x2.shape[0],1)\n",
    "y2 = y2.astype('int')"
   ]
  },
  {
   "cell_type": "code",
   "execution_count": 7,
   "metadata": {},
   "outputs": [],
   "source": [
    "x1_train, x1_test, y1_train, y1_test = train_test_split(x1, y1, test_size=0.15, random_state=7)\n",
    "x2_train, x2_test, y2_train, y2_test = train_test_split(x2, y2, test_size=0.15, random_state=7)"
   ]
  },
  {
   "cell_type": "code",
   "execution_count": 8,
   "metadata": {},
   "outputs": [
    {
     "name": "stdout",
     "output_type": "stream",
     "text": [
      "(246607, 8) (43519, 8) (246607, 1) (43519, 1)\n",
      "(246607, 8) (43519, 8) (246607, 1) (43519, 1)\n"
     ]
    }
   ],
   "source": [
    "print(x1_train.shape, x1_test.shape, y1_train.shape, y1_test.shape)\n",
    "print(x2_train.shape, x2_test.shape, y2_train.shape, y2_test.shape)"
   ]
  },
  {
   "cell_type": "code",
   "execution_count": 9,
   "metadata": {},
   "outputs": [],
   "source": [
    "x1_train = x1_train.T\n",
    "x1_test = x1_test.T\n",
    "y1_train = y1_train.T\n",
    "y1_test = y1_test.T\n",
    "\n",
    "x2_train = x2_train.T\n",
    "x2_test = x2_test.T\n",
    "y2_train = y2_train.T\n",
    "y2_test = y2_test.T"
   ]
  },
  {
   "cell_type": "code",
   "execution_count": 10,
   "metadata": {},
   "outputs": [
    {
     "name": "stdout",
     "output_type": "stream",
     "text": [
      "(8, 246607) (8, 43519) (1, 246607) (1, 43519)\n",
      "(8, 246607) (8, 43519) (1, 246607) (1, 43519)\n"
     ]
    }
   ],
   "source": [
    "print(x1_train.shape, x1_test.shape, y1_train.shape, y1_test.shape)\n",
    "print(x2_train.shape, x2_test.shape, y2_train.shape, y2_test.shape)"
   ]
  },
  {
   "cell_type": "code",
   "execution_count": 11,
   "metadata": {},
   "outputs": [
    {
     "name": "stdout",
     "output_type": "stream",
     "text": [
      "Cost after iteration 0: 9.210340\n",
      "Cost after iteration 10: 9.210340\n",
      "Cost after iteration 20: 9.210340\n",
      "Cost after iteration 30: 9.210340\n",
      "Cost after iteration 40: 9.210340\n",
      "Cost after iteration 50: 9.210340\n",
      "Cost after iteration 60: 9.210340\n",
      "Cost after iteration 70: 9.210340\n",
      "Cost after iteration 80: 0.045615\n",
      "Cost after iteration 90: 9.210340\n",
      "Cost after iteration 100: 9.210340\n",
      "Cost after iteration 110: 9.210340\n",
      "Cost after iteration 120: 9.210340\n",
      "Cost after iteration 130: 9.210340\n",
      "Cost after iteration 140: 9.210340\n"
     ]
    },
    {
     "data": {
      "image/png": "[encoded data removed]",
      "text/plain": [
       "<Figure size 432x288 with 1 Axes>"
      ]
     },
     "metadata": {},
     "output_type": "display_data"
    },
    {
     "name": "stdout",
     "output_type": "stream",
     "text": [
      "train accuracy: 99.93689554635513 %\n",
      "test accuracy: 99.93680920977044 %\n"
     ]
    }
   ],
   "source": [
    "def init_w_b(dimension1):\n",
    "    w1 = np.full((dimension1,1),1)\n",
    "    b1 = 0.0\n",
    "    return w1, b1\n",
    "\n",
    "def sigmoid(z1):\n",
    "    y1_head = 1/(1+np.exp((-z1.astype(int))))\n",
    "    return y1_head\n",
    "\n",
    "def fw_bw_propagation(w1,b1,x1_train,y1_train):\n",
    "    z1 = np.dot(w1.T,x1_train) + b1\n",
    "    y1_head = sigmoid(z1.astype(int)) # probabilistic 0-1\n",
    "    loss1 = -y1_train*np.log(1-y1_head+1e-4)-(1-y1_train)*np.log(1-y1_head+1e-4)\n",
    "    cost1 = (np.sum(loss1))/x1_train.shape[1]\n",
    "    \n",
    "    # backward propagation\n",
    "    derivative_weight1 = (np.dot(x1_train,((y1_head-y1_train+1e-4).T)))/x1_train.shape[1] # x_train.shape[1]  is for scaling\n",
    "    derivative_bias1 = np.sum(y1_head-y1_train+1e-4)/x1_train.shape[1]           # x_train.shape[1]  is for scaling\n",
    "    gradients1 = {\"derivative_weight1\": derivative_weight1,\"derivative_bias1\": derivative_bias1}\n",
    "    return cost1,gradients1\n",
    "\n",
    "def update(w1, b1, x1_train, y1_train, learning_rate, number_of_iteration):\n",
    "    cost1_list = []\n",
    "    cost_list2 = []\n",
    "    index = []\n",
    "    # updating(learning) parameters is number_of_iterarion times\n",
    "    for i in range(number_of_iteration):\n",
    "        # make forward and backward propagation and find cost and gradients\n",
    "        cost1,gradients1 = fw_bw_propagation(w1,b1,x1_train,y1_train)\n",
    "        cost1_list.append(cost1)\n",
    "        # lets update\n",
    "        w1 = w1 - learning_rate * gradients1[\"derivative_weight1\"]\n",
    "        b1 = b1 - learning_rate * gradients1[\"derivative_bias1\"]\n",
    "        if i % 10 == 0:\n",
    "            cost_list2.append(cost1)\n",
    "            index.append(i)\n",
    "            print (\"Cost after iteration %i: %f\" %(i, cost1))\n",
    "    # we update(learn) parameters weights and bias\n",
    "    parameters1 = {\"weight\": w1,\"bias\": b1}\n",
    "    plt.plot(index,cost_list2)\n",
    "    plt.xticks(index,rotation='vertical')\n",
    "    plt.xlabel(\"Number of Iterarion\")\n",
    "    plt.ylabel(\"Cost\")\n",
    "    plt.show()\n",
    "    return parameters1, gradients1, cost1_list\n",
    "#parameters, gradients, cost_list = update(w, b, x_train, y_train, learning_rate = 0.009,number_of_iterarion = 200)\n",
    "\n",
    "def predict(w1,b1,x1_test):\n",
    "    # x_test is a input for forward propagation\n",
    "    z1 = sigmoid(np.dot(w1.T,x1_test)+b1)\n",
    "    Y1_prediction = np.zeros((1,x1_test.shape[1]))\n",
    "    # if z is bigger than 0.5, our prediction is sign one (y_head=1),\n",
    "    # if z is smaller than 0.5, our prediction is sign zero (y_head=0),\n",
    "    for i in range(z1.shape[1]):\n",
    "        if z1[0,i]<= 0.5:\n",
    "            Y1_prediction[0,i] = 0\n",
    "        else:\n",
    "            Y1_prediction[0,i] = 1\n",
    "\n",
    "    return Y1_prediction\n",
    "# predict(parameters[\"weight\"],parameters[\"bias\"],x_test)\n",
    "\n",
    "def logistic_regression(x1_train, y1_train, x1_test, y1_test, learning_rate , num_iterations):\n",
    "    # initialize\n",
    "    dimension =  x1_train.shape[0]\n",
    "    w1,b1 = init_w_b(dimension)\n",
    "    # do not change learning rate\n",
    "    parameters1, gradients1, cost1_list = update(w1, b1, x1_train, y1_train, learning_rate, num_iterations)\n",
    "    \n",
    "    y1_prediction_test = predict(parameters1[\"weight\"],parameters1[\"bias\"],x1_test)\n",
    "    y1_prediction_test = y1_prediction_test.astype('int')\n",
    "    y1_prediction_train = predict(parameters1[\"weight\"],parameters1[\"bias\"],x1_train)\n",
    "    y1_prediction_train = y1_prediction_train.astype('int')\n",
    "\n",
    "    print(\"train accuracy: {} %\".format(100 - np.mean(np.abs(y1_prediction_train - y1_train))))\n",
    "    print(\"test accuracy: {} %\".format(100 - np.mean(np.abs(y1_prediction_test - y1_test))))\n",
    "    \n",
    "logistic_regression(x1_train, y1_train, x1_test, y1_test,learning_rate = 1, num_iterations = 150)"
   ]
  },
  {
   "cell_type": "code",
   "execution_count": 12,
   "metadata": {},
   "outputs": [
    {
     "name": "stdout",
     "output_type": "stream",
     "text": [
      "Cost after iteration 0: 9.210340\n",
      "Cost after iteration 10: 9.210340\n",
      "Cost after iteration 20: 5.028859\n",
      "Cost after iteration 30: 9.210116\n",
      "Cost after iteration 40: 9.199883\n",
      "Cost after iteration 50: 9.209369\n",
      "Cost after iteration 60: 9.197306\n",
      "Cost after iteration 70: 9.208585\n",
      "Cost after iteration 80: 9.193683\n",
      "Cost after iteration 90: 9.207875\n",
      "Cost after iteration 100: 9.192114\n",
      "Cost after iteration 110: 9.207539\n",
      "Cost after iteration 120: 9.191031\n",
      "Cost after iteration 130: 9.208174\n",
      "Cost after iteration 140: 9.200182\n"
     ]
    },
    {
     "data": {
      "image/png": "[encoded data removed]",
      "text/plain": [
       "<Figure size 432x288 with 1 Axes>"
      ]
     },
     "metadata": {},
     "output_type": "display_data"
    },
    {
     "name": "stdout",
     "output_type": "stream",
     "text": [
      "train accuracy: 99.94942560430158 %\n",
      "test accuracy: 99.94894184149452 %\n"
     ]
    }
   ],
   "source": [
    "def init_w_b(dimension2):\n",
    "    w2 = np.full((dimension2,1),1)\n",
    "    b2 = 0.0\n",
    "    return w2, b2\n",
    "\n",
    "def sigmoid(z2):\n",
    "    y2_head = 1/(1+np.exp((-z2.astype(int))))\n",
    "    return y2_head\n",
    "\n",
    "def fw_bw_propagation(w2,b2,x2_train,y2_train):\n",
    "    z2 = np.dot(w2.T,x2_train) + b2\n",
    "    y2_head = sigmoid(z2.astype(int)) # probabilistic 0-1\n",
    "    loss2 = -y2_train*np.log(1-y2_head+1e-4)-(1-y2_train)*np.log(1-y2_head+1e-4)\n",
    "    cost2 = (np.sum(loss2))/x2_train.shape[1]\n",
    "    \n",
    "    # backward propagation\n",
    "    derivative_weight2 = (np.dot(x2_train,((y2_head-y2_train+1e-4).T)))/x2_train.shape[1] # x_train.shape[1]  is for scaling\n",
    "    derivative_bias2 = np.sum(y2_head-y2_train+1e-4)/x2_train.shape[1]           # x_train.shape[1]  is for scaling\n",
    "    gradients2 = {\"derivative_weight2\": derivative_weight2,\"derivative_bias2\": derivative_bias2}\n",
    "    return cost2,gradients2\n",
    "\n",
    "def update(w2, b2, x2_train, y2_train, learning_rate, number_of_iteration):\n",
    "    cost2_list = []\n",
    "    cost_list2 = []\n",
    "    index = []\n",
    "    # updating(learning) parameters is number_of_iterarion times\n",
    "    for i in range(number_of_iteration):\n",
    "        # make forward and backward propagation and find cost and gradients\n",
    "        cost2,gradients2 = fw_bw_propagation(w2,b2,x2_train,y2_train)\n",
    "        cost2_list.append(cost2)\n",
    "        # lets update\n",
    "        w2 = w2 - learning_rate * gradients2[\"derivative_weight2\"]\n",
    "        b2 = b2 - learning_rate * gradients2[\"derivative_bias2\"]\n",
    "        if i % 10 == 0:\n",
    "            cost_list2.append(cost2)\n",
    "            index.append(i)\n",
    "            print (\"Cost after iteration %i: %f\" %(i, cost2))\n",
    "    # we update(learn) parameters weights and bias\n",
    "    parameters2 = {\"weight\": w2,\"bias\": b2}\n",
    "    plt.plot(index,cost_list2)\n",
    "    plt.xticks(index,rotation='vertical')\n",
    "    plt.xlabel(\"Number of Iterarion\")\n",
    "    plt.ylabel(\"Cost\")\n",
    "    plt.show()\n",
    "    return parameters2, gradients2, cost2_list\n",
    "#parameters, gradients, cost_list = update(w, b, x_train, y_train, learning_rate = 0.009,number_of_iterarion = 200)\n",
    "\n",
    "def predict(w2,b2,x2_test):\n",
    "    # x_test is a input for forward propagation\n",
    "    z2 = sigmoid(np.dot(w2.T,x2_test)+b2)\n",
    "    Y2_prediction = np.zeros((1,x2_test.shape[1]))\n",
    "    # if z is bigger than 0.5, our prediction is sign one (y_head=1),\n",
    "    # if z is smaller than 0.5, our prediction is sign zero (y_head=0),\n",
    "    for i in range(z2.shape[1]):\n",
    "        if z2[0,i]<= 0.5:\n",
    "            Y2_prediction[0,i] = 0\n",
    "        else:\n",
    "            Y2_prediction[0,i] = 1\n",
    "\n",
    "    return Y2_prediction\n",
    "# predict(parameters[\"weight\"],parameters[\"bias\"],x_test)\n",
    "\n",
    "def logistic_regression(x2_train, y2_train, x2_test, y2_test, learning_rate , num_iterations):\n",
    "    # initialize\n",
    "    dimension =  x2_train.shape[0]\n",
    "    w2,b2 = init_w_b(dimension)\n",
    "    # do not change learning rate\n",
    "    parameters2, gradients2, cost2_list = update(w2, b2, x2_train, y2_train, learning_rate, num_iterations)\n",
    "    \n",
    "    y2_prediction_test = predict(parameters2[\"weight\"],parameters2[\"bias\"],x2_test)\n",
    "    y2_prediction_test = y2_prediction_test.astype('int')\n",
    "    y2_prediction_train = predict(parameters2[\"weight\"],parameters2[\"bias\"],x2_train)\n",
    "    y2_prediction_train = y2_prediction_train.astype('int')\n",
    "\n",
    "    print(\"train accuracy: {} %\".format(100 - np.mean(np.abs(y2_prediction_train - y2_train))))\n",
    "    print(\"test accuracy: {} %\".format(100 - np.mean(np.abs(y2_prediction_test - y2_test))))\n",
    "    \n",
    "logistic_regression(x2_train, y2_train, x2_test, y2_test,learning_rate = 1, num_iterations = 150)"
   ]
  },
  {
   "cell_type": "code",
   "execution_count": 13,
   "metadata": {},
   "outputs": [
    {
     "name": "stderr",
     "output_type": "stream",
     "text": [
      "C:\\Users\\Lokesh Vairamuthu\\Anaconda3\\lib\\site-packages\\sklearn\\utils\\validation.py:578: DataConversionWarning: A column-vector y was passed when a 1d array was expected. Please change the shape of y to (n_samples, ), for example using ravel().\n",
      "  y = column_or_1d(y, warn=True)\n"
     ]
    },
    {
     "name": "stdout",
     "output_type": "stream",
     "text": [
      "Train accuracy for is_trans : 0.9368955463551318\n",
      "Test accuracy for is_trans: 0.9993680920977045\n",
      "\n",
      "\n",
      "Train accuracy for is_spare: 0.9496770164674969\n",
      "Test accuracy for is_spare: 0.9994802028919362\n"
     ]
    }
   ],
   "source": [
    "logreg1 = LogisticRegression(random_state = 42,max_iter= 150, solver='lbfgs', multi_class='ovr')\n",
    "logreg1 = logreg1.fit(x1_train.T, y1_train.T)\n",
    "print(\"Train accuracy for is_trans :\", logreg1.score(x1_train.T, y1_train.T))\n",
    "y_pred1 = logreg1.predict(x1_test.T)\n",
    "print(\"Test accuracy for is_trans:\", (100 - np.mean(np.abs(y_pred1 - y1_test.T)))/100)\n",
    "print(\"\\n\")\n",
    "\n",
    "logreg2 = LogisticRegression(random_state = 42,max_iter= 150, solver='lbfgs', multi_class='ovr')\n",
    "logreg2 = logreg2.fit(x2_train.T, y2_train.T)\n",
    "print(\"Train accuracy for is_spare:\", logreg2.score(x2_train.T, y2_train.T))\n",
    "y_pred2 = logreg2.predict(x2_test.T)\n",
    "print(\"Test accuracy for is_spare:\", (100 - np.mean(np.abs(y_pred2 - y2_test.T)))/100)"
   ]
  },
  {
   "cell_type": "code",
   "execution_count": 14,
   "metadata": {},
   "outputs": [
    {
     "name": "stdout",
     "output_type": "stream",
     "text": [
      "Train accuracy for is_trans: 0.06310445364486815\n",
      "Test accuracy for is_trans: 0.9906319079022956\n",
      "\n",
      "\n",
      "Train accuracy for is_spare: 0.05055412052374831\n",
      "Test accuracy for is_spare: 0.9905098922309796\n"
     ]
    }
   ],
   "source": [
    "from sklearn.neural_network import MLPClassifier\n",
    "\n",
    "x1_train_mlp = x1_train.T\n",
    "x1_test_mlp = x1_test.T\n",
    "y1_train_mlp = y1_train.reshape(y1_train.shape[1])\n",
    "y1_test_mlp = y1_test.reshape(y1_test.shape[1])\n",
    "x2_train_mlp = x2_train.T\n",
    "x2_test_mlp = x2_test.T\n",
    "y2_train_mlp = y2_train.reshape(y2_train.shape[1])\n",
    "y2_test_mlp = y2_test.reshape(y2_test.shape[1])\n",
    "\n",
    "\n",
    "clf_mlp1 = MLPClassifier(solver='lbfgs', alpha=1e-5, hidden_layer_sizes=(5, 2), random_state=42)\n",
    "clf_mlp1 = clf_mlp1.fit(x1_train_mlp, y1_train_mlp)\n",
    "print(\"Train accuracy for is_trans:\", clf_mlp1.score(x1_train_mlp, y1_train_mlp))\n",
    "y_pred_mlp1 = clf_mlp1.predict(x1_test_mlp)\n",
    "print(\"Test accuracy for is_trans:\", (100 - np.mean(np.abs(y_pred_mlp1 - y1_test_mlp)))/100)\n",
    "print(\"\\n\")\n",
    "clf_mlp2 = MLPClassifier(solver='lbfgs', alpha=1e-5, hidden_layer_sizes=(5, 2), random_state=42)\n",
    "clf_mlp2 = clf_mlp2.fit(x2_train_mlp, y2_train_mlp)\n",
    "print(\"Train accuracy for is_spare:\", clf_mlp2.score(x2_train_mlp, y2_train_mlp))\n",
    "y_pred_mlp2 = clf_mlp2.predict(x2_test_mlp)\n",
    "print(\"Test accuracy for is_spare:\", (100 - np.mean(np.abs(y_pred_mlp2 - y2_test_mlp)))/100)"
   ]
  },
  {
   "cell_type": "code",
   "execution_count": 15,
   "metadata": {},
   "outputs": [
    {
     "name": "stdout",
     "output_type": "stream",
     "text": [
      "Train accuracy for is_trans: 0.9784272141504499\n",
      "Test accuracy for is_trans: 0.9996612973643696\n",
      "\n",
      "\n",
      "Train accuracy for is_spare: 0.05055412052374831\n",
      "Test accuracy for is_spare: 0.9905098922309796\n"
     ]
    }
   ],
   "source": [
    "from sklearn.neighbors import KNeighborsClassifier\n",
    "\n",
    "x1_train_knc = x1_train.T\n",
    "x1_test_knc = x1_test.T\n",
    "y1_train_knc = y1_train.reshape(y1_train.shape[1])\n",
    "y1_test_knc = y1_test.reshape(y1_test.shape[1])\n",
    "x2_train_knc = x2_train.T\n",
    "x2_test_knc = x2_test.T\n",
    "y2_train_knc = y2_train.reshape(y2_train.shape[1])\n",
    "y2_test_knc = y2_test.reshape(y2_test.shape[1])\n",
    "\n",
    "clf_knc1 = KNeighborsClassifier(n_neighbors=5, weights=\"uniform\", algorithm=\"auto\")\n",
    "clf_knc1 = clf_knc1.fit(x1_train_knc, y1_train_knc)\n",
    "print(\"Train accuracy for is_trans:\", clf_knc1.score(x1_train_knc, y1_train_knc))\n",
    "y_pred_knc1 = clf_knc1.predict(x1_test_knc)\n",
    "print(\"Test accuracy for is_trans:\", (100 - np.mean(np.abs(y_pred_knc1 - y1_test_knc)))/100)\n",
    "print(\"\\n\")\n",
    "clf_knc2 = KNeighborsClassifier(n_neighbors=5, weights=\"uniform\", algorithm=\"auto\")\n",
    "clf_knc2 = clf_mlp2.fit(x2_train_knc, y2_train_knc)\n",
    "print(\"Train accuracy for is_spare:\", clf_knc2.score(x2_train_knc, y2_train_knc))\n",
    "y_pred_knc2 = clf_knc2.predict(x2_test_knc)\n",
    "print(\"Test accuracy for is_spare:\", (100 - np.mean(np.abs(y_pred_knc2 - y2_test_knc)))/100)"
   ]
  },
  {
   "cell_type": "code",
   "execution_count": 26,
   "metadata": {},
   "outputs": [
    {
     "name": "stdout",
     "output_type": "stream",
     "text": [
      "Train accuracy for is_trans of Decision Tree: 1.0\n",
      "Test accuracy for is_trans of Decision Tree: 0.9990691422137458\n",
      "[0.99995945 0.9999189  0.99995945 0.9998378  1.         0.99987835\n",
      " 1.         0.99995945 0.99995945 1.        ]\n",
      "\n",
      "\n",
      "Train accuracy for is_spare of Decision Tree: 0.9719675435003873\n",
      "Test accuracy for is_spare of Decision Tree: 0.9992520508283738\n",
      "[0.92680751 0.92478002 0.92295527 0.92518552 0.92591541 0.92587486\n",
      " 0.92384737 0.92408759 0.92278994 0.92664234]\n"
     ]
    }
   ],
   "source": [
    "from sklearn.model_selection import cross_val_score\n",
    "from sklearn.tree import DecisionTreeClassifier\n",
    "\n",
    "x1_train_dt = x1_train.T\n",
    "x1_test_dt = x1_test.T\n",
    "y1_train_dt = y1_train.reshape(y1_train.shape[1])\n",
    "y1_test_dt = y1_test.reshape(y1_test.shape[1])\n",
    "x2_train_dt = x2_train.T\n",
    "x2_test_dt = x2_test.T\n",
    "y2_train_dt = y2_train.reshape(y2_train.shape[1])\n",
    "y2_test_dt = y2_test.reshape(y2_test.shape[1])\n",
    "\n",
    "clf_dt1 = DecisionTreeClassifier(random_state=0)\n",
    "clf_dt1 = clf_dt1.fit(x1_train_dt, y1_train_dt)\n",
    "print(\"Train accuracy for is_trans of Decision Tree:\", clf_dt1.score(x1_train_dt, y1_train_dt))\n",
    "y_pred_dt1 = clf_dt1.predict(x1_test_dt)\n",
    "print(\"Test accuracy for is_trans of Decision Tree:\", (100 - np.mean(np.abs(y_pred_dt1 - y2_test_dt)))/100)\n",
    "print(cross_val_score(clf_dt1, x1_train_dt, y1_train_dt, cv=10))\n",
    "print(\"\\n\")\n",
    "\n",
    "clf_dt2 = DecisionTreeClassifier(random_state=0)\n",
    "clf_dt2 = clf_dt2.fit(x2_train_dt, y2_train_dt)\n",
    "print(\"Train accuracy for is_spare of Decision Tree:\", clf_dt2.score(x2_train_dt, y2_train_dt))\n",
    "y_pred_dt2 = clf_dt2.predict(x2_test_dt)\n",
    "print(\"Test accuracy for is_spare of Decision Tree:\", (100 - np.mean(np.abs(y_pred_dt2 - y2_test_dt)))/100)\n",
    "print(cross_val_score(clf_dt2, x2_train_dt, y2_train_dt, cv=10))"
   ]
  },
  {
   "cell_type": "code",
   "execution_count": 35,
   "metadata": {},
   "outputs": [
    {
     "name": "stdout",
     "output_type": "stream",
     "text": [
      "Train accuracy for is_spare of Random Forest Classifier: 0.9368955463551318\n",
      "Test accuracy for is_spare of Random Forest Classifier: 0.9993680920977045\n",
      "[0.93686643 0.93686643 0.93690442 0.93690442 0.93690442 0.93690187\n",
      " 0.93690187 0.93690187 0.93690187 0.93690187]\n",
      "[0.0024869  0.42607876 0.07277853 0.00167543 0.03872154 0.04639588\n",
      " 0.10323356 0.30862939]\n",
      "\n",
      "\n",
      "Train accuracy for is_spare of Random Forest Classifier: 0.9494458794762517\n",
      "Test accuracy for is_spare of Random Forest Classifier: 0.9994901077690205\n",
      "[0.94943433 0.94943433 0.94943433 0.94943433 0.94943433 0.94943433\n",
      " 0.94943433 0.94947283 0.94947283 0.94947283]\n",
      "[2.30660840e-02 1.63221555e-01 4.55457388e-01 1.69699047e-05\n",
      " 1.06272901e-01 2.64669753e-02 1.66056523e-02 2.08892474e-01]\n"
     ]
    }
   ],
   "source": [
    "from sklearn.ensemble import RandomForestClassifier\n",
    "\n",
    "x1_train_rfc = x1_train.T\n",
    "x1_test_rfc = x1_test.T\n",
    "y1_train_rfc = y1_train.reshape(y1_train.shape[1])\n",
    "y1_test_rfc = y1_test.reshape(y1_test.shape[1])\n",
    "x2_train_rfc = x2_train.T\n",
    "x2_test_rfc = x2_test.T\n",
    "y2_train_rfc = y2_train.reshape(y2_train.shape[1])\n",
    "y2_test_rfc = y2_test.reshape(y2_test.shape[1])\n",
    "\n",
    "clf_rfc1 = RandomForestClassifier(n_estimators=100, max_depth=2, random_state=0)\n",
    "clf_rfc1 = clf_rfc1.fit(x1_train_rfc, y1_train_rfc)\n",
    "print(\"Train accuracy for is_spare of Random Forest Classifier:\", clf_rfc1.score(x1_train_rfc, y1_train_rfc))\n",
    "y_pred_rfc1 = clf_rfc1.predict(x1_test_rfc)\n",
    "print(\"Test accuracy for is_spare of Random Forest Classifier:\", (100 - np.mean(np.abs(y_pred_rfc1 - y1_test_rfc)))/100)\n",
    "print(cross_val_score(clf_rfc1, x1_train_rfc, y1_train_rfc, cv=10))\n",
    "print(clf_rfc1.feature_importances_)\n",
    "print(\"\\n\")\n",
    "\n",
    "clf_rfc2 = RandomForestClassifier(n_estimators=100, max_depth=2, random_state=0)\n",
    "clf_rfc2 = clf_rfc2.fit(x2_train_rfc, y2_train_rfc)\n",
    "print(\"Train accuracy for is_spare of Random Forest Classifier:\", clf_rfc2.score(x2_train_rfc, y2_train_rfc))\n",
    "y_pred_rfc2 = clf_rfc2.predict(x2_test_rfc)\n",
    "print(\"Test accuracy for is_spare of Random Forest Classifier:\", (100 - np.mean(np.abs(y_pred_rfc2 - y2_test_rfc)))/100)\n",
    "print(cross_val_score(clf_rfc2, x2_train_rfc, y2_train_rfc, cv=10))\n",
    "print(clf_rfc2.feature_importances_)"
   ]
  },
  {
   "cell_type": "code",
   "execution_count": 36,
   "metadata": {},
   "outputs": [
    {
     "name": "stdout",
     "output_type": "stream",
     "text": [
      "Train accuracy for is_trans of AdaBoost Classifier: 0.9999513395807905\n",
      "Test accuracy for is_trans of AdaBoost Classifier: 0.999999080861233\n",
      "[1.         0.99995945 0.9999189  1.         0.99987835 0.99983779\n",
      " 0.9999189  0.9999189  1.         0.9999189 ]\n",
      "[0.   0.92 0.   0.   0.02 0.05 0.01 0.  ]\n",
      "The mean score for the AdaBoost Classifier for is_trans output is: 0.9999310640114751\n",
      "\n",
      "\n",
      "Train accuracy for is_spare of AdaBoost Classifier: 0.9499203185635444\n",
      "Test accuracy for is_spare of AdaBoost Classifier: 0.9994937843240883\n",
      "[0.94935323 0.94983983 0.94955598 0.94992093 0.95024533 0.94935323\n",
      " 0.94971818 0.95       0.95004055 0.9500811 ]\n",
      "[0.09 0.23 0.11 0.   0.19 0.26 0.11 0.01]\n",
      "The mean score for the AdaBoost Classifier for is_trans output is: 0.9499649238935536\n",
      "\n",
      "\n"
     ]
    }
   ],
   "source": [
    "from sklearn.ensemble import AdaBoostClassifier\n",
    "\n",
    "x1_train_abc = x1_train.T\n",
    "x1_test_abc = x1_test.T\n",
    "y1_train_abc = y1_train.reshape(y1_train.shape[1])\n",
    "y1_test_abc = y1_test.reshape(y1_test.shape[1])\n",
    "x2_train_abc = x2_train.T\n",
    "x2_test_abc = x2_test.T\n",
    "y2_train_abc = y2_train.reshape(y2_train.shape[1])\n",
    "y2_test_abc = y2_test.reshape(y2_test.shape[1])\n",
    "\n",
    "clf_abc1 = AdaBoostClassifier(n_estimators=100)\n",
    "clf_abc1 = clf_abc1.fit(x1_train_abc, y1_train_abc)\n",
    "print(\"Train accuracy for is_trans of AdaBoost Classifier:\", clf_abc1.score(x1_train_abc, y1_train_abc))\n",
    "y_pred_abc1 = clf_abc1.predict(x1_test_abc)\n",
    "print(\"Test accuracy for is_trans of AdaBoost Classifier:\", (100 - np.mean(np.abs(y_pred_abc1 - y1_test_abc)))/100)\n",
    "print(cross_val_score(clf_abc1, x1_train_abc, y1_train_abc, cv=10))\n",
    "print(clf_abc1.feature_importances_)\n",
    "scores_abc1 = cross_val_score(clf_abc1, x1_train_abc, y1_train_abc, cv=5)\n",
    "print(\"The mean score for the AdaBoost Classifier for is_trans output is:\", scores_abc1.mean())\n",
    "print(\"\\n\")\n",
    "\n",
    "clf_abc2 = AdaBoostClassifier(n_estimators=100)\n",
    "clf_abc2 = clf_abc1.fit(x2_train_abc, y2_train_abc)\n",
    "print(\"Train accuracy for is_spare of AdaBoost Classifier:\", clf_abc2.score(x2_train_abc, y2_train_abc))\n",
    "y_pred_abc2 = clf_abc2.predict(x2_test_abc)\n",
    "print(\"Test accuracy for is_spare of AdaBoost Classifier:\", (100 - np.mean(np.abs(y_pred_abc2 - y2_test_abc)))/100)\n",
    "print(cross_val_score(clf_abc2, x2_train_abc, y2_train_abc, cv=10))\n",
    "print(clf_abc2.feature_importances_)\n",
    "scores_abc2= cross_val_score(clf_abc2, x2_train_abc, y2_train_abc, cv=5)\n",
    "print(\"The mean score for the AdaBoost Classifier for is_trans output is:\", scores_abc2.mean())"
   ]
  },
  {
   "cell_type": "code",
   "execution_count": 39,
   "metadata": {},
   "outputs": [
    {
     "name": "stdout",
     "output_type": "stream",
     "text": [
      "Train accuracy for is_trans of Gaussian Naive Bayes: 0.884358513748596\n",
      "Test accuracy for is_trans of Gaussian Naive Bayes: 0.9988388979526184\n",
      "[0.86708296 0.89733193 0.88459511 0.90040955 0.77997648 0.88142741\n",
      " 0.89927007 0.89412003 0.88536091 0.88706407]\n",
      "The mean score for the Gaussian Naive Bayes for is_trans output is: 0.8701616493402078\n",
      "\n",
      "\n",
      "Train accuracy for is_spare of Gaussian Naive Bayes: 0.9234814907930432\n",
      "Test accuracy for is_spare of Gaussian Naive Bayes: 0.9992208001102967\n",
      "[0.92534772 0.92498277 0.92287417 0.92344187 0.92323912 0.92409067\n",
      " 0.92234703 0.92412814 0.9229927  0.92206002]\n",
      "The mean score for the Gaussian Naive Bayes for is_spare output is: 0.9235139265595219\n"
     ]
    }
   ],
   "source": [
    "from sklearn.naive_bayes import GaussianNB\n",
    "\n",
    "x1_train_gnb = x1_train.T\n",
    "x1_test_gnb = x1_test.T\n",
    "y1_train_gnb = y1_train.reshape(y1_train.shape[1])\n",
    "y1_test_gnb = y1_test.reshape(y1_test.shape[1])\n",
    "x2_train_gnb = x2_train.T\n",
    "x2_test_gnb = x2_test.T\n",
    "y2_train_gnb = y2_train.reshape(y2_train.shape[1])\n",
    "y2_test_gnb = y2_test.reshape(y2_test.shape[1])\n",
    "\n",
    "clf_gnb1 = GaussianNB()\n",
    "clf_gnb1 = clf_gnb1.fit(x1_train_gnb, y1_train_gnb)\n",
    "print(\"Train accuracy for is_trans of Gaussian Naive Bayes:\", clf_gnb1.score(x1_train_gnb, y1_train_gnb))\n",
    "y_pred_gnb1 = clf_gnb1.predict(x1_test_gnb)\n",
    "print(\"Test accuracy for is_trans of Gaussian Naive Bayes:\", (100 - np.mean(np.abs(y_pred_gnb1 - y1_test_gnb)))/100)\n",
    "print(cross_val_score(clf_gnb1, x1_train_gnb, y1_train_gnb, cv=10))\n",
    "scores_gnb1 = cross_val_score(clf_gnb1, x1_train_gnb, y1_train_gnb, cv=5)\n",
    "print(\"The mean score for the Gaussian Naive Bayes for is_trans output is:\", scores_gnb1.mean())\n",
    "print(\"\\n\")\n",
    "\n",
    "clf_gnb2 = GaussianNB()\n",
    "clf_gnb2 = clf_gnb2.fit(x2_train_gnb, y2_train_gnb)\n",
    "print(\"Train accuracy for is_spare of Gaussian Naive Bayes:\", clf_gnb2.score(x2_train_gnb, y2_train_gnb))\n",
    "y_pred_gnb2 = clf_gnb2.predict(x2_test_gnb)\n",
    "print(\"Test accuracy for is_spare of Gaussian Naive Bayes:\", (100 - np.mean(np.abs(y_pred_gnb2 - y2_test_gnb)))/100)\n",
    "print(cross_val_score(clf_gnb2, x2_train_gnb, y2_train_gnb, cv=10))\n",
    "scores_gnb2 = cross_val_score(clf_gnb2, x2_train_gnb, y2_train_gnb, cv=5)\n",
    "print(\"The mean score for the Gaussian Naive Bayes for is_spare output is:\", scores_gnb2.mean())"
   ]
  },
  {
   "cell_type": "code",
   "execution_count": 43,
   "metadata": {},
   "outputs": [
    {
     "name": "stdout",
     "output_type": "stream",
     "text": [
      "Train accuracy for is_trans of Quadratic Discriminant Analysis: 0.9101282607549664\n",
      "Test accuracy for is_trans of Quadratic Discriminant Analysis: 0.9990987844389807\n",
      "[0.91188874 0.91010461 0.91079032 0.91058757 0.91087142 0.90855637\n",
      " 0.9081103  0.91034063 0.90920519 0.91050284]\n",
      "The mean score for the Gaussian Naive Bayes for is_trans output is: 0.9100714837783791\n",
      "\n",
      "\n",
      "Train accuracy for is_spare of Quadratic Discriminant Analysis: 0.9175408646145486\n",
      "Test accuracy for is_spare of Quadratic Discriminant Analysis: 0.9991555412578415\n",
      "[0.91987348 0.91885974 0.91626455 0.91723774 0.91699444 0.91865699\n",
      " 0.91569685 0.91796431 0.91739659 0.91601784]\n",
      "The mean score for the Gaussian Naive Bayes for is_spare output is: 0.9174638136314902\n"
     ]
    }
   ],
   "source": [
    "from sklearn.discriminant_analysis import QuadraticDiscriminantAnalysis\n",
    "\n",
    "x1_train_qda = x1_train.T\n",
    "x1_test_qda = x1_test.T\n",
    "y1_train_qda = y1_train.reshape(y1_train.shape[1])\n",
    "y1_test_qda = y1_test.reshape(y1_test.shape[1])\n",
    "x2_train_qda = x2_train.T\n",
    "x2_test_qda = x2_test.T\n",
    "y2_train_qda = y2_train.reshape(y2_train.shape[1])\n",
    "y2_test_qda = y2_test.reshape(y2_test.shape[1])\n",
    "\n",
    "clf_qda1 = QuadraticDiscriminantAnalysis()\n",
    "clf_qda1 = clf_qda1.fit(x1_train_qda, y1_train_qda)\n",
    "print(\"Train accuracy for is_trans of Quadratic Discriminant Analysis:\", clf_qda1.score(x1_train_qda, y1_train_qda))\n",
    "y_pred_qda1 = clf_qda1.predict(x1_test_qda)\n",
    "print(\"Test accuracy for is_trans of Quadratic Discriminant Analysis:\", (100 - np.mean(np.abs(y_pred_qda1 - y1_test_qda)))/100)\n",
    "print(cross_val_score(clf_qda1, x1_train_qda, y1_train_qda, cv=10))\n",
    "scores_qda1 = cross_val_score(clf_qda1, x1_train_qda, y1_train_qda, cv=5)\n",
    "print(\"The mean score for the Gaussian Naive Bayes for is_trans output is:\", scores_qda1.mean())\n",
    "print(\"\\n\")\n",
    "\n",
    "clf_qda2 = QuadraticDiscriminantAnalysis()\n",
    "clf_qda2 = clf_qda2.fit(x2_train_qda, y2_train_qda)\n",
    "print(\"Train accuracy for is_spare of Quadratic Discriminant Analysis:\", clf_qda2.score(x2_train_qda, y2_train_qda))\n",
    "y_pred_qda2 = clf_qda2.predict(x2_test_qda)\n",
    "print(\"Test accuracy for is_spare of Quadratic Discriminant Analysis:\", (100 - np.mean(np.abs(y_pred_qda2 - y2_test_qda)))/100)\n",
    "print(cross_val_score(clf_qda2, x2_train_qda, y2_train_qda, cv=10))\n",
    "scores_qda2 = cross_val_score(clf_qda2, x2_train_qda, y2_train_qda, cv=5)\n",
    "print(\"The mean score for the Gaussian Naive Bayes for is_spare output is:\", scores_qda2.mean())"
   ]
  }
 ],
 "metadata": {
  "kernelspec": {
   "display_name": "Python 3",
   "language": "python",
   "name": "python3"
  },
  "language_info": {
   "codemirror_mode": {
    "name": "ipython",
    "version": 3
   },
   "file_extension": ".py",
   "mimetype": "text/x-python",
   "name": "python",
   "nbconvert_exporter": "python",
   "pygments_lexer": "ipython3",
   "version": "3.6.8"
  }
 },
 "nbformat": 4,
 "nbformat_minor": 2
}
